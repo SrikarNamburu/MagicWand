{
 "cells": [
  {
   "cell_type": "markdown",
   "metadata": {},
   "source": [
    "# ====================Gesture Classifier========================="
   ]
  },
  {
   "cell_type": "markdown",
   "metadata": {},
   "source": [
    "#### Importing all the required dependencies"
   ]
  },
  {
   "cell_type": "code",
   "execution_count": 61,
   "metadata": {},
   "outputs": [],
   "source": [
    "import os\n",
    "import pandas as pd\n",
    "import numpy as np\n",
    "import matplotlib.pyplot as plt\n",
    "from keras.models import Sequential\n",
    "from keras.layers import Dense, Conv2D, Dropout, Flatten, MaxPooling2D\n",
    "from sklearn.model_selection import train_test_split\n",
    "from scipy.stats import pearsonr\n",
    "from keras.utils import to_categorical\n",
    "from keras.models import Sequential\n",
    "from keras.layers import Dense, Dropout, Activation\n",
    "from keras.optimizers import SGD\n",
    "from keras.optimizers import adam\n",
    "import pickle\n",
    "import warnings\n",
    "warnings.filterwarnings(\"ignore\")"
   ]
  },
  {
   "cell_type": "markdown",
   "metadata": {},
   "source": [
    "#### Feature Engineering"
   ]
  },
  {
   "cell_type": "code",
   "execution_count": 30,
   "metadata": {},
   "outputs": [],
   "source": [
    "def CreateNewFeature(df):\n",
    "    for i in range(0,len(os.listdir())):\n",
    "        temp = pd.read_csv(os.listdir()[i])\n",
    "        acc_x_mean,acc_y_mean,acc_z_mean,gyro_x_mean,gyro_y_mean,gyro_z_mean = temp.mean()\n",
    "        acc_x_max, acc_y_max, acc_z_max, gyro_x_max,gyro_y_max, gyro_z_max= temp.max()\n",
    "        acc_x_min,acc_y_min,acc_z_min,gyro_x_min,gyro_y_min,gyro_z_min = temp.min()\n",
    "        acc_x_mad, acc_y_mad,acc_z_mad, gyro_x_mad, gyro_y_mad, gyro_z_mad = temp.mad()\n",
    "        acc_x_std,acc_y_std,acc_z_std,gyro_x_std,gyro_y_std,gyro_z_std = temp.std()\n",
    "        acc_x_y_corr,_ = pearsonr(temp.X,temp.Y)\n",
    "        acc_z_x_corr,_= pearsonr(temp.Y,temp.Z)\n",
    "        acc_y_z_corr,_ =pearsonr(temp.Z,temp.X)\n",
    "        gyro_y_z_corr,_ =pearsonr(temp['Y.1'],temp['Z.1'])\n",
    "        gyro_x_y_corr,_  =pearsonr(temp['X.1'],temp['Y.1'])\n",
    "        gyro_x_z_corr,_ =pearsonr(temp['X.1'],temp['Z.1'])\n",
    "\n",
    "        asd = list([acc_x_mean, acc_y_mean, acc_z_mean, gyro_x_mean, gyro_y_mean, gyro_z_mean, acc_x_max, acc_y_max, acc_z_max, gyro_x_max,gyro_y_max, gyro_z_max, acc_x_min, acc_y_min, acc_z_min,gyro_x_min, gyro_y_min, gyro_z_min, acc_x_mad, acc_y_mad,acc_z_mad, gyro_x_mad, gyro_y_mad, gyro_z_mad, acc_x_std,acc_y_std, acc_z_std, gyro_x_std, gyro_y_std, gyro_z_std,acc_x_y_corr, acc_y_z_corr, acc_z_x_corr, gyro_x_y_corr,gyro_y_z_corr, gyro_x_z_corr])\n",
    "\n",
    "        qwr = pd.DataFrame(asd).T\n",
    "        qwr.columns = ['acc_x_mean','acc_y_mean','acc_z_mean','gyro_x_mean','gyro_y_mean','gyro_z_mean','acc_x_max','acc_y_max','acc_z_max','gyro_x_max','gyro_y_max','gyro_z_max','acc_x_min','acc_y_min','acc_z_min','gyro_x_min','gyro_y_min','gyro_z_min','acc_x_mad','acc_y_mad','acc_z_mad','gyro_x_mad','gyro_y_mad','gyro_z_mad','acc_x_std','acc_y_std','acc_z_std','gyro_x_std','gyro_y_std','gyro_z_std','acc_x_y_corr','acc_y_z_corr','acc_z_x_corr','gyro_x_y_corr','gyro_y_z_corr','gyro_x_z_corr']\n",
    "        df = df.append(qwr)\n",
    "    return(df)"
   ]
  },
  {
   "cell_type": "code",
   "execution_count": 26,
   "metadata": {},
   "outputs": [],
   "source": [
    "### Creating empty dataframe for gestures to create new features\n",
    "df = pd.DataFrame(columns=['acc_x_mean','acc_y_mean','acc_z_mean','gyro_x_mean','gyro_y_mean','gyro_z_mean','acc_x_max','acc_y_max','acc_z_max','gyro_x_max','gyro_y_max','gyro_z_max','acc_x_min','acc_y_min','acc_z_min','gyro_x_min','gyro_y_min','gyro_z_min','acc_x_mad','acc_y_mad','acc_z_mad','gyro_x_mad','gyro_y_mad','gyro_z_mad','acc_x_std','acc_y_std','acc_z_std','gyro_x_std','gyro_y_std','gyro_z_std','acc_x_y_corr','acc_y_z_corr','acc_z_x_corr','gyro_x_y_corr','gyro_y_z_corr','gyro_x_z_corr'])"
   ]
  },
  {
   "cell_type": "code",
   "execution_count": 33,
   "metadata": {},
   "outputs": [],
   "source": [
    "#Directory that contains files of gesture 1\n",
    "os.chdir('..\\\\Data\\\\Gesture1')\n",
    "Gesture1 = CreateNewFeature(df)\n",
    "Gesture1['Label'] = 1\n",
    "\n",
    "#Directory that contains files of gesture 2\n",
    "os.chdir('..\\\\Data\\\\Gesture2')\n",
    "Gesture2 = CreateNewFeature(df)\n",
    "Gesture2['Label'] = 0"
   ]
  },
  {
   "cell_type": "code",
   "execution_count": 39,
   "metadata": {},
   "outputs": [
    {
     "name": "stdout",
     "output_type": "stream",
     "text": [
      "Shape: (100, 37)\n"
     ]
    },
    {
     "data": {
      "text/html": [
       "<div>\n",
       "<style scoped>\n",
       "    .dataframe tbody tr th:only-of-type {\n",
       "        vertical-align: middle;\n",
       "    }\n",
       "\n",
       "    .dataframe tbody tr th {\n",
       "        vertical-align: top;\n",
       "    }\n",
       "\n",
       "    .dataframe thead th {\n",
       "        text-align: right;\n",
       "    }\n",
       "</style>\n",
       "<table border=\"1\" class=\"dataframe\">\n",
       "  <thead>\n",
       "    <tr style=\"text-align: right;\">\n",
       "      <th></th>\n",
       "      <th>acc_x_mean</th>\n",
       "      <th>acc_y_mean</th>\n",
       "      <th>acc_z_mean</th>\n",
       "      <th>gyro_x_mean</th>\n",
       "      <th>gyro_y_mean</th>\n",
       "      <th>gyro_z_mean</th>\n",
       "      <th>acc_x_max</th>\n",
       "      <th>acc_y_max</th>\n",
       "      <th>acc_z_max</th>\n",
       "      <th>gyro_x_max</th>\n",
       "      <th>...</th>\n",
       "      <th>gyro_x_std</th>\n",
       "      <th>gyro_y_std</th>\n",
       "      <th>gyro_z_std</th>\n",
       "      <th>acc_x_y_corr</th>\n",
       "      <th>acc_y_z_corr</th>\n",
       "      <th>acc_z_x_corr</th>\n",
       "      <th>gyro_x_y_corr</th>\n",
       "      <th>gyro_y_z_corr</th>\n",
       "      <th>gyro_x_z_corr</th>\n",
       "      <th>Label</th>\n",
       "    </tr>\n",
       "  </thead>\n",
       "  <tbody>\n",
       "    <tr>\n",
       "      <th>0</th>\n",
       "      <td>7.639383</td>\n",
       "      <td>1.683669</td>\n",
       "      <td>0.421076</td>\n",
       "      <td>0.023885</td>\n",
       "      <td>0.067161</td>\n",
       "      <td>0.037847</td>\n",
       "      <td>14.042421</td>\n",
       "      <td>11.111830</td>\n",
       "      <td>2.396669</td>\n",
       "      <td>1.480414</td>\n",
       "      <td>...</td>\n",
       "      <td>0.384589</td>\n",
       "      <td>0.317351</td>\n",
       "      <td>2.885490</td>\n",
       "      <td>-0.934460</td>\n",
       "      <td>0.458692</td>\n",
       "      <td>-0.495601</td>\n",
       "      <td>0.143881</td>\n",
       "      <td>-0.008645</td>\n",
       "      <td>-0.482477</td>\n",
       "      <td>1</td>\n",
       "    </tr>\n",
       "    <tr>\n",
       "      <th>0</th>\n",
       "      <td>7.180968</td>\n",
       "      <td>1.631644</td>\n",
       "      <td>0.118934</td>\n",
       "      <td>0.032708</td>\n",
       "      <td>-0.036756</td>\n",
       "      <td>0.045715</td>\n",
       "      <td>15.644192</td>\n",
       "      <td>12.258687</td>\n",
       "      <td>1.750215</td>\n",
       "      <td>0.719887</td>\n",
       "      <td>...</td>\n",
       "      <td>0.257496</td>\n",
       "      <td>0.299725</td>\n",
       "      <td>3.297317</td>\n",
       "      <td>-0.930429</td>\n",
       "      <td>-0.271121</td>\n",
       "      <td>0.237672</td>\n",
       "      <td>0.058824</td>\n",
       "      <td>-0.501212</td>\n",
       "      <td>0.431144</td>\n",
       "      <td>1</td>\n",
       "    </tr>\n",
       "    <tr>\n",
       "      <th>0</th>\n",
       "      <td>7.605308</td>\n",
       "      <td>0.753712</td>\n",
       "      <td>0.407951</td>\n",
       "      <td>0.045380</td>\n",
       "      <td>0.025808</td>\n",
       "      <td>0.017605</td>\n",
       "      <td>17.109488</td>\n",
       "      <td>11.964191</td>\n",
       "      <td>4.680807</td>\n",
       "      <td>1.016767</td>\n",
       "      <td>...</td>\n",
       "      <td>0.365259</td>\n",
       "      <td>0.463217</td>\n",
       "      <td>3.768198</td>\n",
       "      <td>-0.834244</td>\n",
       "      <td>-0.101798</td>\n",
       "      <td>0.263950</td>\n",
       "      <td>-0.354192</td>\n",
       "      <td>0.056472</td>\n",
       "      <td>0.685816</td>\n",
       "      <td>1</td>\n",
       "    </tr>\n",
       "    <tr>\n",
       "      <th>0</th>\n",
       "      <td>7.593657</td>\n",
       "      <td>1.641047</td>\n",
       "      <td>0.284504</td>\n",
       "      <td>0.032815</td>\n",
       "      <td>0.010460</td>\n",
       "      <td>-0.019054</td>\n",
       "      <td>15.974602</td>\n",
       "      <td>11.669696</td>\n",
       "      <td>2.911438</td>\n",
       "      <td>1.231792</td>\n",
       "      <td>...</td>\n",
       "      <td>0.385553</td>\n",
       "      <td>0.355803</td>\n",
       "      <td>3.491778</td>\n",
       "      <td>-0.906493</td>\n",
       "      <td>0.254882</td>\n",
       "      <td>-0.218436</td>\n",
       "      <td>0.191172</td>\n",
       "      <td>0.646861</td>\n",
       "      <td>0.753056</td>\n",
       "      <td>1</td>\n",
       "    </tr>\n",
       "    <tr>\n",
       "      <th>0</th>\n",
       "      <td>7.637838</td>\n",
       "      <td>1.367001</td>\n",
       "      <td>-0.125570</td>\n",
       "      <td>0.048885</td>\n",
       "      <td>0.021598</td>\n",
       "      <td>0.026929</td>\n",
       "      <td>17.727211</td>\n",
       "      <td>12.510086</td>\n",
       "      <td>3.318465</td>\n",
       "      <td>1.387563</td>\n",
       "      <td>...</td>\n",
       "      <td>0.527415</td>\n",
       "      <td>0.379079</td>\n",
       "      <td>3.384963</td>\n",
       "      <td>-0.947903</td>\n",
       "      <td>0.070245</td>\n",
       "      <td>-0.134969</td>\n",
       "      <td>0.113766</td>\n",
       "      <td>0.081603</td>\n",
       "      <td>-0.442996</td>\n",
       "      <td>1</td>\n",
       "    </tr>\n",
       "  </tbody>\n",
       "</table>\n",
       "<p>5 rows × 37 columns</p>\n",
       "</div>"
      ],
      "text/plain": [
       "   acc_x_mean  acc_y_mean  acc_z_mean  gyro_x_mean  gyro_y_mean  gyro_z_mean  \\\n",
       "0    7.639383    1.683669    0.421076     0.023885     0.067161     0.037847   \n",
       "0    7.180968    1.631644    0.118934     0.032708    -0.036756     0.045715   \n",
       "0    7.605308    0.753712    0.407951     0.045380     0.025808     0.017605   \n",
       "0    7.593657    1.641047    0.284504     0.032815     0.010460    -0.019054   \n",
       "0    7.637838    1.367001   -0.125570     0.048885     0.021598     0.026929   \n",
       "\n",
       "   acc_x_max  acc_y_max  acc_z_max  gyro_x_max  ...  gyro_x_std  gyro_y_std  \\\n",
       "0  14.042421  11.111830   2.396669    1.480414  ...    0.384589    0.317351   \n",
       "0  15.644192  12.258687   1.750215    0.719887  ...    0.257496    0.299725   \n",
       "0  17.109488  11.964191   4.680807    1.016767  ...    0.365259    0.463217   \n",
       "0  15.974602  11.669696   2.911438    1.231792  ...    0.385553    0.355803   \n",
       "0  17.727211  12.510086   3.318465    1.387563  ...    0.527415    0.379079   \n",
       "\n",
       "   gyro_z_std  acc_x_y_corr  acc_y_z_corr  acc_z_x_corr  gyro_x_y_corr  \\\n",
       "0    2.885490     -0.934460      0.458692     -0.495601       0.143881   \n",
       "0    3.297317     -0.930429     -0.271121      0.237672       0.058824   \n",
       "0    3.768198     -0.834244     -0.101798      0.263950      -0.354192   \n",
       "0    3.491778     -0.906493      0.254882     -0.218436       0.191172   \n",
       "0    3.384963     -0.947903      0.070245     -0.134969       0.113766   \n",
       "\n",
       "   gyro_y_z_corr  gyro_x_z_corr  Label  \n",
       "0      -0.008645      -0.482477      1  \n",
       "0      -0.501212       0.431144      1  \n",
       "0       0.056472       0.685816      1  \n",
       "0       0.646861       0.753056      1  \n",
       "0       0.081603      -0.442996      1  \n",
       "\n",
       "[5 rows x 37 columns]"
      ]
     },
     "execution_count": 39,
     "metadata": {},
     "output_type": "execute_result"
    }
   ],
   "source": [
    "#Checking the Gesture1 Data\n",
    "print('Shape:',Gesture1.shape)\n",
    "Gesture1.head()"
   ]
  },
  {
   "cell_type": "code",
   "execution_count": 40,
   "metadata": {},
   "outputs": [
    {
     "name": "stdout",
     "output_type": "stream",
     "text": [
      "Shape: (100, 37)\n"
     ]
    },
    {
     "data": {
      "text/html": [
       "<div>\n",
       "<style scoped>\n",
       "    .dataframe tbody tr th:only-of-type {\n",
       "        vertical-align: middle;\n",
       "    }\n",
       "\n",
       "    .dataframe tbody tr th {\n",
       "        vertical-align: top;\n",
       "    }\n",
       "\n",
       "    .dataframe thead th {\n",
       "        text-align: right;\n",
       "    }\n",
       "</style>\n",
       "<table border=\"1\" class=\"dataframe\">\n",
       "  <thead>\n",
       "    <tr style=\"text-align: right;\">\n",
       "      <th></th>\n",
       "      <th>acc_x_mean</th>\n",
       "      <th>acc_y_mean</th>\n",
       "      <th>acc_z_mean</th>\n",
       "      <th>gyro_x_mean</th>\n",
       "      <th>gyro_y_mean</th>\n",
       "      <th>gyro_z_mean</th>\n",
       "      <th>acc_x_max</th>\n",
       "      <th>acc_y_max</th>\n",
       "      <th>acc_z_max</th>\n",
       "      <th>gyro_x_max</th>\n",
       "      <th>...</th>\n",
       "      <th>gyro_x_std</th>\n",
       "      <th>gyro_y_std</th>\n",
       "      <th>gyro_z_std</th>\n",
       "      <th>acc_x_y_corr</th>\n",
       "      <th>acc_y_z_corr</th>\n",
       "      <th>acc_z_x_corr</th>\n",
       "      <th>gyro_x_y_corr</th>\n",
       "      <th>gyro_y_z_corr</th>\n",
       "      <th>gyro_x_z_corr</th>\n",
       "      <th>Label</th>\n",
       "    </tr>\n",
       "  </thead>\n",
       "  <tbody>\n",
       "    <tr>\n",
       "      <th>0</th>\n",
       "      <td>7.348786</td>\n",
       "      <td>-2.353464</td>\n",
       "      <td>2.170109</td>\n",
       "      <td>-0.038946</td>\n",
       "      <td>-0.053562</td>\n",
       "      <td>-0.042382</td>\n",
       "      <td>9.816526</td>\n",
       "      <td>4.307301</td>\n",
       "      <td>4.364763</td>\n",
       "      <td>1.401175</td>\n",
       "      <td>...</td>\n",
       "      <td>0.627396</td>\n",
       "      <td>0.448670</td>\n",
       "      <td>3.341099</td>\n",
       "      <td>0.858933</td>\n",
       "      <td>0.235350</td>\n",
       "      <td>0.380367</td>\n",
       "      <td>0.116562</td>\n",
       "      <td>-0.317359</td>\n",
       "      <td>0.745073</td>\n",
       "      <td>0</td>\n",
       "    </tr>\n",
       "    <tr>\n",
       "      <th>0</th>\n",
       "      <td>8.168369</td>\n",
       "      <td>-0.417121</td>\n",
       "      <td>1.463235</td>\n",
       "      <td>0.019863</td>\n",
       "      <td>0.013379</td>\n",
       "      <td>-0.023270</td>\n",
       "      <td>9.802161</td>\n",
       "      <td>4.051113</td>\n",
       "      <td>4.357580</td>\n",
       "      <td>0.972959</td>\n",
       "      <td>...</td>\n",
       "      <td>0.487587</td>\n",
       "      <td>0.347299</td>\n",
       "      <td>2.914826</td>\n",
       "      <td>0.819141</td>\n",
       "      <td>-0.065711</td>\n",
       "      <td>0.275725</td>\n",
       "      <td>-0.177166</td>\n",
       "      <td>-0.619076</td>\n",
       "      <td>0.684173</td>\n",
       "      <td>0</td>\n",
       "    </tr>\n",
       "    <tr>\n",
       "      <th>0</th>\n",
       "      <td>7.137002</td>\n",
       "      <td>-2.562758</td>\n",
       "      <td>0.725428</td>\n",
       "      <td>-0.065141</td>\n",
       "      <td>-0.068594</td>\n",
       "      <td>-0.037503</td>\n",
       "      <td>9.821315</td>\n",
       "      <td>3.802108</td>\n",
       "      <td>4.565882</td>\n",
       "      <td>0.706011</td>\n",
       "      <td>...</td>\n",
       "      <td>0.318523</td>\n",
       "      <td>0.336711</td>\n",
       "      <td>3.944875</td>\n",
       "      <td>0.756017</td>\n",
       "      <td>-0.037407</td>\n",
       "      <td>0.430939</td>\n",
       "      <td>-0.029188</td>\n",
       "      <td>-0.453647</td>\n",
       "      <td>0.787857</td>\n",
       "      <td>0</td>\n",
       "    </tr>\n",
       "    <tr>\n",
       "      <th>0</th>\n",
       "      <td>7.168338</td>\n",
       "      <td>-2.153814</td>\n",
       "      <td>0.786011</td>\n",
       "      <td>0.008332</td>\n",
       "      <td>0.071677</td>\n",
       "      <td>0.015989</td>\n",
       "      <td>10.192428</td>\n",
       "      <td>6.352011</td>\n",
       "      <td>4.896292</td>\n",
       "      <td>1.291219</td>\n",
       "      <td>...</td>\n",
       "      <td>0.692925</td>\n",
       "      <td>0.490629</td>\n",
       "      <td>4.259617</td>\n",
       "      <td>0.713693</td>\n",
       "      <td>-0.096938</td>\n",
       "      <td>0.257050</td>\n",
       "      <td>-0.096188</td>\n",
       "      <td>-0.555392</td>\n",
       "      <td>0.674004</td>\n",
       "      <td>0</td>\n",
       "    </tr>\n",
       "    <tr>\n",
       "      <th>0</th>\n",
       "      <td>6.998696</td>\n",
       "      <td>-2.818656</td>\n",
       "      <td>1.197666</td>\n",
       "      <td>-0.143105</td>\n",
       "      <td>-0.017738</td>\n",
       "      <td>-0.033353</td>\n",
       "      <td>10.010463</td>\n",
       "      <td>3.390293</td>\n",
       "      <td>3.895485</td>\n",
       "      <td>0.647978</td>\n",
       "      <td>...</td>\n",
       "      <td>0.582949</td>\n",
       "      <td>0.368426</td>\n",
       "      <td>3.974352</td>\n",
       "      <td>0.798937</td>\n",
       "      <td>0.058907</td>\n",
       "      <td>0.171220</td>\n",
       "      <td>-0.018744</td>\n",
       "      <td>-0.478529</td>\n",
       "      <td>0.692178</td>\n",
       "      <td>0</td>\n",
       "    </tr>\n",
       "  </tbody>\n",
       "</table>\n",
       "<p>5 rows × 37 columns</p>\n",
       "</div>"
      ],
      "text/plain": [
       "   acc_x_mean  acc_y_mean  acc_z_mean  gyro_x_mean  gyro_y_mean  gyro_z_mean  \\\n",
       "0    7.348786   -2.353464    2.170109    -0.038946    -0.053562    -0.042382   \n",
       "0    8.168369   -0.417121    1.463235     0.019863     0.013379    -0.023270   \n",
       "0    7.137002   -2.562758    0.725428    -0.065141    -0.068594    -0.037503   \n",
       "0    7.168338   -2.153814    0.786011     0.008332     0.071677     0.015989   \n",
       "0    6.998696   -2.818656    1.197666    -0.143105    -0.017738    -0.033353   \n",
       "\n",
       "   acc_x_max  acc_y_max  acc_z_max  gyro_x_max  ...  gyro_x_std  gyro_y_std  \\\n",
       "0   9.816526   4.307301   4.364763    1.401175  ...    0.627396    0.448670   \n",
       "0   9.802161   4.051113   4.357580    0.972959  ...    0.487587    0.347299   \n",
       "0   9.821315   3.802108   4.565882    0.706011  ...    0.318523    0.336711   \n",
       "0  10.192428   6.352011   4.896292    1.291219  ...    0.692925    0.490629   \n",
       "0  10.010463   3.390293   3.895485    0.647978  ...    0.582949    0.368426   \n",
       "\n",
       "   gyro_z_std  acc_x_y_corr  acc_y_z_corr  acc_z_x_corr  gyro_x_y_corr  \\\n",
       "0    3.341099      0.858933      0.235350      0.380367       0.116562   \n",
       "0    2.914826      0.819141     -0.065711      0.275725      -0.177166   \n",
       "0    3.944875      0.756017     -0.037407      0.430939      -0.029188   \n",
       "0    4.259617      0.713693     -0.096938      0.257050      -0.096188   \n",
       "0    3.974352      0.798937      0.058907      0.171220      -0.018744   \n",
       "\n",
       "   gyro_y_z_corr  gyro_x_z_corr  Label  \n",
       "0      -0.317359       0.745073      0  \n",
       "0      -0.619076       0.684173      0  \n",
       "0      -0.453647       0.787857      0  \n",
       "0      -0.555392       0.674004      0  \n",
       "0      -0.478529       0.692178      0  \n",
       "\n",
       "[5 rows x 37 columns]"
      ]
     },
     "execution_count": 40,
     "metadata": {},
     "output_type": "execute_result"
    }
   ],
   "source": [
    "#Checking the Gesture2 Data\n",
    "print('Shape:',Gesture2.shape)\n",
    "Gesture2.head()"
   ]
  },
  {
   "cell_type": "code",
   "execution_count": 41,
   "metadata": {},
   "outputs": [],
   "source": [
    "#Merging the data to one dataframe\n",
    "Data = Gesture1.append(Gesture2)"
   ]
  },
  {
   "cell_type": "markdown",
   "metadata": {},
   "source": [
    "#### Splitting the data"
   ]
  },
  {
   "cell_type": "code",
   "execution_count": 45,
   "metadata": {},
   "outputs": [
    {
     "name": "stdout",
     "output_type": "stream",
     "text": [
      "Shape of train Data: (150, 37)\n",
      "Shape of test Data: (50, 37)\n"
     ]
    }
   ],
   "source": [
    "train, test = train_test_split(Data, stratify=Data[\"Label\"], test_size = 0.25)\n",
    "print('Shape of train Data:',train.shape)\n",
    "print('Shape of test Data:',test.shape)"
   ]
  },
  {
   "cell_type": "code",
   "execution_count": 47,
   "metadata": {},
   "outputs": [],
   "source": [
    "#Seperating target variable from train and test data\n",
    "train_features = train.iloc[:,:36].as_matrix()\n",
    "test_features = test.iloc[:,:36].as_matrix()"
   ]
  },
  {
   "cell_type": "code",
   "execution_count": 48,
   "metadata": {},
   "outputs": [],
   "source": [
    "# Getting Labels of train and test data\n",
    "train_results = train.Label\n",
    "test_results = test.Label"
   ]
  },
  {
   "cell_type": "code",
   "execution_count": 50,
   "metadata": {},
   "outputs": [],
   "source": [
    "# Changing the datatype of labels into categories\n",
    "train_results = to_categorical(train_results)\n",
    "test_results = to_categorical(test_results)"
   ]
  },
  {
   "cell_type": "markdown",
   "metadata": {},
   "source": [
    "#### Model Architechture"
   ]
  },
  {
   "cell_type": "code",
   "execution_count": 53,
   "metadata": {
    "scrolled": true
   },
   "outputs": [],
   "source": [
    "model = Sequential()\n",
    "model.add(Dense(64, activation='relu', input_dim=36))\n",
    "model.add(Dropout(0.5))\n",
    "model.add(Dense(64, activation='relu'))\n",
    "model.add(Dropout(0.5))\n",
    "model.add(Dense(2, activation='sigmoid'))"
   ]
  },
  {
   "cell_type": "markdown",
   "metadata": {},
   "source": [
    "#### Compiling the model"
   ]
  },
  {
   "cell_type": "code",
   "execution_count": 54,
   "metadata": {},
   "outputs": [],
   "source": [
    "sgd = SGD(lr=0.01, decay=1e-6, momentum=0.9, nesterov=True)\n",
    "\n",
    "model.compile(loss='binary_crossentropy',\n",
    "              optimizer=sgd,\n",
    "              metrics=['accuracy'])"
   ]
  },
  {
   "cell_type": "markdown",
   "metadata": {},
   "source": [
    "#### Fitting the model on data"
   ]
  },
  {
   "cell_type": "code",
   "execution_count": 57,
   "metadata": {},
   "outputs": [
    {
     "name": "stdout",
     "output_type": "stream",
     "text": [
      "Epoch 1/30\n",
      "150/150 [==============================] - 0s 80us/step - loss: 0.0018 - acc: 1.0000\n",
      "Epoch 2/30\n",
      "150/150 [==============================] - 0s 53us/step - loss: 0.0125 - acc: 0.9900\n",
      "Epoch 3/30\n",
      "150/150 [==============================] - 0s 80us/step - loss: 0.0044 - acc: 0.9967\n",
      "Epoch 4/30\n",
      "150/150 [==============================] - 0s 53us/step - loss: 0.0027 - acc: 1.0000\n",
      "Epoch 5/30\n",
      "150/150 [==============================] - 0s 80us/step - loss: 0.0067 - acc: 0.9933\n",
      "Epoch 6/30\n",
      "150/150 [==============================] - 0s 80us/step - loss: 0.0035 - acc: 1.0000\n",
      "Epoch 7/30\n",
      "150/150 [==============================] - 0s 53us/step - loss: 0.0026 - acc: 1.0000\n",
      "Epoch 8/30\n",
      "150/150 [==============================] - 0s 80us/step - loss: 4.4334e-04 - acc: 1.0000\n",
      "Epoch 9/30\n",
      "150/150 [==============================] - 0s 53us/step - loss: 0.0117 - acc: 0.9933\n",
      "Epoch 10/30\n",
      "150/150 [==============================] - 0s 53us/step - loss: 0.0102 - acc: 0.9933\n",
      "Epoch 11/30\n",
      "150/150 [==============================] - 0s 80us/step - loss: 0.0041 - acc: 1.0000\n",
      "Epoch 12/30\n",
      "150/150 [==============================] - 0s 80us/step - loss: 0.0037 - acc: 1.0000\n",
      "Epoch 13/30\n",
      "150/150 [==============================] - 0s 80us/step - loss: 0.0016 - acc: 1.0000\n",
      "Epoch 14/30\n",
      "150/150 [==============================] - 0s 53us/step - loss: 0.0011 - acc: 1.0000\n",
      "Epoch 15/30\n",
      "150/150 [==============================] - 0s 53us/step - loss: 0.0023 - acc: 1.0000\n",
      "Epoch 16/30\n",
      "150/150 [==============================] - 0s 80us/step - loss: 0.0022 - acc: 1.0000\n",
      "Epoch 17/30\n",
      "150/150 [==============================] - 0s 53us/step - loss: 0.0018 - acc: 1.0000\n",
      "Epoch 18/30\n",
      "150/150 [==============================] - 0s 80us/step - loss: 0.0017 - acc: 1.0000\n",
      "Epoch 19/30\n",
      "150/150 [==============================] - 0s 53us/step - loss: 0.0041 - acc: 1.0000\n",
      "Epoch 20/30\n",
      "150/150 [==============================] - 0s 53us/step - loss: 0.0061 - acc: 1.0000\n",
      "Epoch 21/30\n",
      "150/150 [==============================] - 0s 53us/step - loss: 8.1460e-04 - acc: 1.0000\n",
      "Epoch 22/30\n",
      "150/150 [==============================] - 0s 80us/step - loss: 0.0053 - acc: 1.0000\n",
      "Epoch 23/30\n",
      "150/150 [==============================] - 0s 80us/step - loss: 0.0042 - acc: 1.0000\n",
      "Epoch 24/30\n",
      "150/150 [==============================] - 0s 80us/step - loss: 7.6293e-04 - acc: 1.0000\n",
      "Epoch 25/30\n",
      "150/150 [==============================] - 0s 80us/step - loss: 0.0056 - acc: 0.9967\n",
      "Epoch 26/30\n",
      "150/150 [==============================] - 0s 80us/step - loss: 0.0055 - acc: 1.0000\n",
      "Epoch 27/30\n",
      "150/150 [==============================] - 0s 80us/step - loss: 0.0025 - acc: 1.0000\n",
      "Epoch 28/30\n",
      "150/150 [==============================] - 0s 80us/step - loss: 5.7984e-04 - acc: 1.0000\n",
      "Epoch 29/30\n",
      "150/150 [==============================] - 0s 80us/step - loss: 7.2841e-04 - acc: 1.0000\n",
      "Epoch 30/30\n",
      "150/150 [==============================] - 0s 80us/step - loss: 0.0110 - acc: 0.9933\n"
     ]
    },
    {
     "data": {
      "text/plain": [
       "<keras.callbacks.History at 0x203a55ed550>"
      ]
     },
     "execution_count": 57,
     "metadata": {},
     "output_type": "execute_result"
    }
   ],
   "source": [
    "model.fit(train_features, train_results,epochs=30,batch_size=32)"
   ]
  },
  {
   "cell_type": "markdown",
   "metadata": {},
   "source": [
    "#### Evaluating the model on test data"
   ]
  },
  {
   "cell_type": "code",
   "execution_count": 59,
   "metadata": {},
   "outputs": [
    {
     "name": "stdout",
     "output_type": "stream",
     "text": [
      "50/50 [==============================] - 0s 80us/step\n",
      "Accuracy on test data: 1.0\n"
     ]
    }
   ],
   "source": [
    "score = model.evaluate(test_features, test_results, batch_size=32)\n",
    "print('Accuracy on test data:', score[1])"
   ]
  },
  {
   "cell_type": "markdown",
   "metadata": {},
   "source": [
    "#### Saving the model as a pickle file"
   ]
  },
  {
   "cell_type": "code",
   "execution_count": 62,
   "metadata": {},
   "outputs": [],
   "source": [
    "pickle.dump(model,open('Gesture_Classifier_Model.pkl','wb'))"
   ]
  }
 ],
 "metadata": {
  "kernelspec": {
   "display_name": "Python 3",
   "language": "python",
   "name": "python3"
  },
  "language_info": {
   "codemirror_mode": {
    "name": "ipython",
    "version": 3
   },
   "file_extension": ".py",
   "mimetype": "text/x-python",
   "name": "python",
   "nbconvert_exporter": "python",
   "pygments_lexer": "ipython3",
   "version": "3.7.3"
  }
 },
 "nbformat": 4,
 "nbformat_minor": 2
}
